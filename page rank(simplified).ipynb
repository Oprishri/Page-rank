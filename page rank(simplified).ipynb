{
 "cells": [
  {
   "cell_type": "code",
   "execution_count": 1,
   "metadata": {},
   "outputs": [],
   "source": [
    "import numpy as np\n",
    "import networkx as nx"
   ]
  },
  {
   "cell_type": "code",
   "execution_count": 2,
   "metadata": {},
   "outputs": [],
   "source": [
    "def matrix(n,p):\n",
    "    g=nx.gnp_random_graph(n,p)\n",
    "    nx.draw(g,node_size=20)\n",
    "    A=nx.adjacency_matrix(g, nodelist=None, weight='weight')\n",
    "    adja_mat=A.todense()\n",
    "    transition_probability=np.zeros(adja_mat.shape)\n",
    "    for i in range(adja_mat.shape[0]):\n",
    "        for j in range(adja_mat.shape[0]):\n",
    "            transition_probability[i][j]=adja_mat[i].item(j)/np.sum(adja_mat[i:i+1,])\n",
    "    wigen_factor=np.zeros((1,transition_probability.shape[0]))\n",
    "    for i in range(transition_probability.shape[0]):\n",
    "        wigen_factor[0][i]=1/n\n",
    "    return(transition_probability, wigen_factor)"
   ]
  },
  {
   "cell_type": "code",
   "execution_count": 4,
   "metadata": {},
   "outputs": [
    {
     "data": {
      "text/plain": [
       "(array([[0.        , 0.        , 0.        , 0.25      , 0.25      ,\n",
       "         0.        , 0.25      , 0.25      , 0.        , 0.        ],\n",
       "        [0.        , 0.        , 0.33333333, 0.        , 0.        ,\n",
       "         0.33333333, 0.        , 0.33333333, 0.        , 0.        ],\n",
       "        [0.        , 0.5       , 0.        , 0.        , 0.        ,\n",
       "         0.        , 0.5       , 0.        , 0.        , 0.        ],\n",
       "        [0.33333333, 0.        , 0.        , 0.        , 0.33333333,\n",
       "         0.        , 0.        , 0.33333333, 0.        , 0.        ],\n",
       "        [0.25      , 0.        , 0.        , 0.25      , 0.        ,\n",
       "         0.        , 0.25      , 0.        , 0.25      , 0.        ],\n",
       "        [0.        , 0.33333333, 0.        , 0.        , 0.        ,\n",
       "         0.        , 0.        , 0.33333333, 0.33333333, 0.        ],\n",
       "        [0.25      , 0.        , 0.25      , 0.        , 0.25      ,\n",
       "         0.        , 0.        , 0.        , 0.        , 0.25      ],\n",
       "        [0.25      , 0.25      , 0.        , 0.25      , 0.        ,\n",
       "         0.25      , 0.        , 0.        , 0.        , 0.        ],\n",
       "        [0.        , 0.        , 0.        , 0.        , 0.33333333,\n",
       "         0.33333333, 0.        , 0.        , 0.        , 0.33333333],\n",
       "        [0.        , 0.        , 0.        , 0.        , 0.        ,\n",
       "         0.        , 0.5       , 0.        , 0.5       , 0.        ]]),\n",
       " array([[0.1, 0.1, 0.1, 0.1, 0.1, 0.1, 0.1, 0.1, 0.1, 0.1]]))"
      ]
     },
     "execution_count": 4,
     "metadata": {},
     "output_type": "execute_result"
    }
   ],
   "source": [
    "matrix(10,0.45)"
   ]
  },
  {
   "cell_type": "code",
   "execution_count": 5,
   "metadata": {},
   "outputs": [],
   "source": [
    "def page_rank(N,n,p):\n",
    "    transition_probability, wigen_factor=matrix(n,p)\n",
    "    for i in range(N):\n",
    "        page_rank = wigen_factor.dot(transition_probability)\n",
    "        if (page_rank==wigen_factor).all():\n",
    "            print('consistant page rank')\n",
    "            break\n",
    "        else:\n",
    "            wigen_factor =  page_rank\n",
    "    return(page_rank)"
   ]
  },
  {
   "cell_type": "code",
   "execution_count": 13,
   "metadata": {},
   "outputs": [
    {
     "data": {
      "text/plain": [
       "array([[0.125  , 0.15625, 0.09375, 0.03125, 0.03125, 0.15625, 0.125  ,\n",
       "        0.09375, 0.0625 , 0.125  ]])"
      ]
     },
     "execution_count": 13,
     "metadata": {},
     "output_type": "execute_result"
    },
    {
     "data": {
      "image/png": "[encoded data removed]",
      "text/plain": [
       "<Figure size 432x288 with 1 Axes>"
      ]
     },
     "metadata": {},
     "output_type": "display_data"
    }
   ],
   "source": [
    "page_rank(100,10,0.45)"
   ]
  },
  {
   "cell_type": "code",
   "execution_count": null,
   "metadata": {},
   "outputs": [],
   "source": []
  }
 ],
 "metadata": {
  "kernelspec": {
   "display_name": "Python 3",
   "language": "python",
   "name": "python3"
  },
  "language_info": {
   "codemirror_mode": {
    "name": "ipython",
    "version": 3
   },
   "file_extension": ".py",
   "mimetype": "text/x-python",
   "name": "python",
   "nbconvert_exporter": "python",
   "pygments_lexer": "ipython3",
   "version": "3.6.5"
  }
 },
 "nbformat": 4,
 "nbformat_minor": 2
}
